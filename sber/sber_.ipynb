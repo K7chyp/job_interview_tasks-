{
  "nbformat": 4,
  "nbformat_minor": 0,
  "metadata": {
    "colab": {
      "name": "Sber_.ipynb",
      "provenance": []
    },
    "kernelspec": {
      "name": "python3",
      "display_name": "Python 3"
    }
  },
  "cells": [
    {
      "cell_type": "code",
      "metadata": {
        "id": "Q1FlSflhsHlm"
      },
      "source": [
        "import pandas as pd \r\n",
        "import seaborn as sns \r\n",
        "import matplotlib.pyplot as plt "
      ],
      "execution_count": 1,
      "outputs": []
    },
    {
      "cell_type": "code",
      "metadata": {
        "colab": {
          "base_uri": "https://localhost:8080/"
        },
        "id": "HWdZvmEIsSEr",
        "outputId": "32edd2d1-1f8e-4a62-8152-b3b03a066479"
      },
      "source": [
        "from google.colab import drive\r\n",
        "drive.mount('/content/drive')\r\n",
        "\r\n",
        "events = pd.read_csv('/events.csv')"
      ],
      "execution_count": 46,
      "outputs": [
        {
          "output_type": "stream",
          "text": [
            "Drive already mounted at /content/drive; to attempt to forcibly remount, call drive.mount(\"/content/drive\", force_remount=True).\n"
          ],
          "name": "stdout"
        }
      ]
    },
    {
      "cell_type": "code",
      "metadata": {
        "id": "ZERI44rAs6Ex"
      },
      "source": [
        "import sys\r\n",
        "sys.path.append('PATH TO MODULE')"
      ],
      "execution_count": 47,
      "outputs": []
    },
    {
      "cell_type": "code",
      "metadata": {
        "id": "YXFVx25hd8yh"
      },
      "source": [
        "import Preprocessing \r\n",
        "prep = Preprocessing.Prerpocessing(events)\r\n",
        "prep.preproce_it()"
      ],
      "execution_count": 50,
      "outputs": []
    },
    {
      "cell_type": "code",
      "metadata": {
        "id": "7G_sEgbMoTE_"
      },
      "source": [
        "import Exploration \r\n",
        "exp = Exploration.Exploration(events)"
      ],
      "execution_count": 56,
      "outputs": []
    },
    {
      "cell_type": "code",
      "metadata": {
        "id": "5FEo7OkXRjLc"
      },
      "source": [
        "events = prep.events"
      ],
      "execution_count": 51,
      "outputs": []
    },
    {
      "cell_type": "code",
      "metadata": {
        "id": "PFutQpsvedcO",
        "colab": {
          "base_uri": "https://localhost:8080/",
          "height": 204
        },
        "outputId": "94e16e17-0ade-4f2f-9d8e-3acc69d100e0"
      },
      "source": [
        "events.head()"
      ],
      "execution_count": 52,
      "outputs": [
        {
          "output_type": "execute_result",
          "data": {
            "text/html": [
              "<div>\n",
              "<style scoped>\n",
              "    .dataframe tbody tr th:only-of-type {\n",
              "        vertical-align: middle;\n",
              "    }\n",
              "\n",
              "    .dataframe tbody tr th {\n",
              "        vertical-align: top;\n",
              "    }\n",
              "\n",
              "    .dataframe thead th {\n",
              "        text-align: right;\n",
              "    }\n",
              "</style>\n",
              "<table border=\"1\" class=\"dataframe\">\n",
              "  <thead>\n",
              "    <tr style=\"text-align: right;\">\n",
              "      <th></th>\n",
              "      <th>visit_date</th>\n",
              "      <th>URL_visited</th>\n",
              "      <th>user_id</th>\n",
              "      <th>user_reg_date</th>\n",
              "      <th>week_number</th>\n",
              "      <th>registered_after</th>\n",
              "      <th>mean_x</th>\n",
              "      <th>std_x</th>\n",
              "      <th>min_x</th>\n",
              "      <th>max_x</th>\n",
              "      <th>mean_y</th>\n",
              "      <th>std_y</th>\n",
              "      <th>min_y</th>\n",
              "      <th>max_y</th>\n",
              "    </tr>\n",
              "  </thead>\n",
              "  <tbody>\n",
              "    <tr>\n",
              "      <th>0</th>\n",
              "      <td>2018-02-01</td>\n",
              "      <td>https://dasreda.ru/learn/courses/yandeksdirekt...</td>\n",
              "      <td>673</td>\n",
              "      <td>2018-02-01</td>\n",
              "      <td>5</td>\n",
              "      <td>0</td>\n",
              "      <td>7.186047</td>\n",
              "      <td>2.719032</td>\n",
              "      <td>5</td>\n",
              "      <td>12</td>\n",
              "      <td>7.186047</td>\n",
              "      <td>2.719032</td>\n",
              "      <td>5</td>\n",
              "      <td>12</td>\n",
              "    </tr>\n",
              "    <tr>\n",
              "      <th>1</th>\n",
              "      <td>2018-02-01</td>\n",
              "      <td>https://dasreda.ru/learn/courses/odnoklassniki...</td>\n",
              "      <td>673</td>\n",
              "      <td>2018-02-01</td>\n",
              "      <td>5</td>\n",
              "      <td>0</td>\n",
              "      <td>7.186047</td>\n",
              "      <td>2.719032</td>\n",
              "      <td>5</td>\n",
              "      <td>12</td>\n",
              "      <td>7.186047</td>\n",
              "      <td>2.719032</td>\n",
              "      <td>5</td>\n",
              "      <td>12</td>\n",
              "    </tr>\n",
              "    <tr>\n",
              "      <th>2</th>\n",
              "      <td>2018-02-01</td>\n",
              "      <td>https://dasreda.ru/learn/courses/yandeksauditorii</td>\n",
              "      <td>673</td>\n",
              "      <td>2018-02-01</td>\n",
              "      <td>5</td>\n",
              "      <td>0</td>\n",
              "      <td>7.186047</td>\n",
              "      <td>2.719032</td>\n",
              "      <td>5</td>\n",
              "      <td>12</td>\n",
              "      <td>7.186047</td>\n",
              "      <td>2.719032</td>\n",
              "      <td>5</td>\n",
              "      <td>12</td>\n",
              "    </tr>\n",
              "    <tr>\n",
              "      <th>3</th>\n",
              "      <td>2018-02-01</td>\n",
              "      <td>https://dasreda.ru/learn/courses/yandeksauditorii</td>\n",
              "      <td>673</td>\n",
              "      <td>2018-02-01</td>\n",
              "      <td>5</td>\n",
              "      <td>0</td>\n",
              "      <td>7.186047</td>\n",
              "      <td>2.719032</td>\n",
              "      <td>5</td>\n",
              "      <td>12</td>\n",
              "      <td>7.186047</td>\n",
              "      <td>2.719032</td>\n",
              "      <td>5</td>\n",
              "      <td>12</td>\n",
              "    </tr>\n",
              "    <tr>\n",
              "      <th>4</th>\n",
              "      <td>2018-02-01</td>\n",
              "      <td>https://dasreda.ru/learn/courses/yandeksauditorii</td>\n",
              "      <td>673</td>\n",
              "      <td>2018-02-01</td>\n",
              "      <td>5</td>\n",
              "      <td>0</td>\n",
              "      <td>7.186047</td>\n",
              "      <td>2.719032</td>\n",
              "      <td>5</td>\n",
              "      <td>12</td>\n",
              "      <td>7.186047</td>\n",
              "      <td>2.719032</td>\n",
              "      <td>5</td>\n",
              "      <td>12</td>\n",
              "    </tr>\n",
              "  </tbody>\n",
              "</table>\n",
              "</div>"
            ],
            "text/plain": [
              "  visit_date                                        URL_visited  ...  min_y max_y\n",
              "0 2018-02-01  https://dasreda.ru/learn/courses/yandeksdirekt...  ...      5    12\n",
              "1 2018-02-01  https://dasreda.ru/learn/courses/odnoklassniki...  ...      5    12\n",
              "2 2018-02-01  https://dasreda.ru/learn/courses/yandeksauditorii  ...      5    12\n",
              "3 2018-02-01  https://dasreda.ru/learn/courses/yandeksauditorii  ...      5    12\n",
              "4 2018-02-01  https://dasreda.ru/learn/courses/yandeksauditorii  ...      5    12\n",
              "\n",
              "[5 rows x 14 columns]"
            ]
          },
          "metadata": {
            "tags": []
          },
          "execution_count": 52
        }
      ]
    },
    {
      "cell_type": "code",
      "metadata": {
        "colab": {
          "base_uri": "https://localhost:8080/"
        },
        "id": "G8sjATLOgZLG",
        "outputId": "158b7286-dd93-4a44-efc9-24655a3933c4"
      },
      "source": [
        "events.URL_visited.value_counts().nlargest(10)"
      ],
      "execution_count": 53,
      "outputs": [
        {
          "output_type": "execute_result",
          "data": {
            "text/plain": [
              "https://dasreda.ru/learn                         5327\n",
              "https://dasreda.ru/learn/blog                    2119\n",
              "https://dasreda.ru/learn/videos                  1622\n",
              "https://dasreda.ru/learn/courses                 1326\n",
              "https://dasreda.ru/learn/blog/article/259        1073\n",
              "https://dasreda.ru/learn/do                      1057\n",
              "https://dasreda.ru/learn/courses/biznes-klass     712\n",
              "https://dasreda.ru/learn/blog/article/281         673\n",
              "https://dasreda.ru/learn/blog/article/234         672\n",
              "https://dasreda.ru/learn/blog/article/128         644\n",
              "Name: URL_visited, dtype: int64"
            ]
          },
          "metadata": {
            "tags": []
          },
          "execution_count": 53
        }
      ]
    },
    {
      "cell_type": "code",
      "metadata": {
        "colab": {
          "base_uri": "https://localhost:8080/",
          "height": 295
        },
        "id": "ECrYfJvsi4TE",
        "outputId": "404a0b7f-11a6-414f-a9fc-cbbd00bedfdd"
      },
      "source": [
        "exp.plot_registered_after()"
      ],
      "execution_count": 57,
      "outputs": [
        {
          "output_type": "display_data",
          "data": {
            "image/png": "[encoded data removed]",
            "text/plain": [
              "<Figure size 432x288 with 1 Axes>"
            ]
          },
          "metadata": {
            "tags": [],
            "needs_background": "light"
          }
        }
      ]
    },
    {
      "cell_type": "code",
      "metadata": {
        "colab": {
          "base_uri": "https://localhost:8080/",
          "height": 295
        },
        "id": "baKeRU32j7T1",
        "outputId": "8aad2ba6-4a3b-4fbc-9bc0-2c07e8c5d3f7"
      },
      "source": [
        "exp.plot_week_number()"
      ],
      "execution_count": 58,
      "outputs": [
        {
          "output_type": "display_data",
          "data": {
            "image/png": "[encoded data removed]",
            "text/plain": [
              "<Figure size 432x288 with 1 Axes>"
            ]
          },
          "metadata": {
            "tags": [],
            "needs_background": "light"
          }
        }
      ]
    },
    {
      "cell_type": "code",
      "metadata": {
        "id": "05LBw-oDi91C"
      },
      "source": [
        ""
      ],
      "execution_count": null,
      "outputs": []
    }
  ]
}