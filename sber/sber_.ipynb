{
  "nbformat": 4,
  "nbformat_minor": 0,
  "metadata": {
    "colab": {
      "name": "Sber_.ipynb",
      "provenance": []
    },
    "kernelspec": {
      "name": "python3",
      "display_name": "Python 3"
    }
  },
  "cells": [
    {
      "cell_type": "code",
      "metadata": {
        "id": "Q1FlSflhsHlm"
      },
      "source": [
        "import pandas as pd \r\n",
        "import seaborn as sns \r\n",
        "import matplotlib.pyplot as plt "
      ],
      "execution_count": 1,
      "outputs": []
    },
    {
      "cell_type": "code",
      "metadata": {
        "colab": {
          "base_uri": "https://localhost:8080/"
        },
        "id": "HWdZvmEIsSEr",
        "outputId": "9e3ceb47-9334-4531-fe11-1e20a808a6c5"
      },
      "source": [
        "from google.colab import drive\r\n",
        "drive.mount('/content/drive')\r\n",
        "\r\n",
        "events = pd.read_csv('PATH TO DATA')"
      ],
      "execution_count": 10,
      "outputs": [
        {
          "output_type": "stream",
          "text": [
            "Drive already mounted at /content/drive; to attempt to forcibly remount, call drive.mount(\"/content/drive\", force_remount=True).\n"
          ],
          "name": "stdout"
        }
      ]
    },
    {
      "cell_type": "code",
      "metadata": {
        "id": "ZERI44rAs6Ex"
      },
      "source": [
        "import sys\r\n",
        "sys.path.append('PATH TO MODULE')"
      ],
      "execution_count": 3,
      "outputs": []
    },
    {
      "cell_type": "code",
      "metadata": {
        "id": "YXFVx25hd8yh"
      },
      "source": [
        "import Preprocessing \r\n",
        "prep = Preprocessing.Prerpocessing(events)\r\n",
        "prep.preproce_it()"
      ],
      "execution_count": 11,
      "outputs": []
    },
    {
      "cell_type": "code",
      "metadata": {
        "id": "5FEo7OkXRjLc"
      },
      "source": [
        "events = prep.events"
      ],
      "execution_count": 13,
      "outputs": []
    },
    {
      "cell_type": "code",
      "metadata": {
        "id": "PFutQpsvedcO",
        "colab": {
          "base_uri": "https://localhost:8080/",
          "height": 204
        },
        "outputId": "1ca3651c-f907-499e-8012-13df96d12602"
      },
      "source": [
        "events.head()"
      ],
      "execution_count": 14,
      "outputs": [
        {
          "output_type": "execute_result",
          "data": {
            "text/html": [
              "<div>\n",
              "<style scoped>\n",
              "    .dataframe tbody tr th:only-of-type {\n",
              "        vertical-align: middle;\n",
              "    }\n",
              "\n",
              "    .dataframe tbody tr th {\n",
              "        vertical-align: top;\n",
              "    }\n",
              "\n",
              "    .dataframe thead th {\n",
              "        text-align: right;\n",
              "    }\n",
              "</style>\n",
              "<table border=\"1\" class=\"dataframe\">\n",
              "  <thead>\n",
              "    <tr style=\"text-align: right;\">\n",
              "      <th></th>\n",
              "      <th>visit_date</th>\n",
              "      <th>URL_visited</th>\n",
              "      <th>user_id</th>\n",
              "      <th>user_reg_date</th>\n",
              "      <th>week_number</th>\n",
              "      <th>registered_after</th>\n",
              "      <th>mean</th>\n",
              "      <th>std</th>\n",
              "      <th>min</th>\n",
              "      <th>max</th>\n",
              "    </tr>\n",
              "  </thead>\n",
              "  <tbody>\n",
              "    <tr>\n",
              "      <th>0</th>\n",
              "      <td>2018-02-01</td>\n",
              "      <td>https://dasreda.ru/learn/courses/yandeksdirekt...</td>\n",
              "      <td>673</td>\n",
              "      <td>2018-02-01</td>\n",
              "      <td>5</td>\n",
              "      <td>0</td>\n",
              "      <td>7.186047</td>\n",
              "      <td>2.719032</td>\n",
              "      <td>5</td>\n",
              "      <td>12</td>\n",
              "    </tr>\n",
              "    <tr>\n",
              "      <th>1</th>\n",
              "      <td>2018-02-01</td>\n",
              "      <td>https://dasreda.ru/learn/courses/odnoklassniki...</td>\n",
              "      <td>673</td>\n",
              "      <td>2018-02-01</td>\n",
              "      <td>5</td>\n",
              "      <td>0</td>\n",
              "      <td>7.186047</td>\n",
              "      <td>2.719032</td>\n",
              "      <td>5</td>\n",
              "      <td>12</td>\n",
              "    </tr>\n",
              "    <tr>\n",
              "      <th>2</th>\n",
              "      <td>2018-02-01</td>\n",
              "      <td>https://dasreda.ru/learn/courses/yandeksauditorii</td>\n",
              "      <td>673</td>\n",
              "      <td>2018-02-01</td>\n",
              "      <td>5</td>\n",
              "      <td>0</td>\n",
              "      <td>7.186047</td>\n",
              "      <td>2.719032</td>\n",
              "      <td>5</td>\n",
              "      <td>12</td>\n",
              "    </tr>\n",
              "    <tr>\n",
              "      <th>3</th>\n",
              "      <td>2018-02-01</td>\n",
              "      <td>https://dasreda.ru/learn/courses/yandeksauditorii</td>\n",
              "      <td>673</td>\n",
              "      <td>2018-02-01</td>\n",
              "      <td>5</td>\n",
              "      <td>0</td>\n",
              "      <td>7.186047</td>\n",
              "      <td>2.719032</td>\n",
              "      <td>5</td>\n",
              "      <td>12</td>\n",
              "    </tr>\n",
              "    <tr>\n",
              "      <th>4</th>\n",
              "      <td>2018-02-01</td>\n",
              "      <td>https://dasreda.ru/learn/courses/yandeksauditorii</td>\n",
              "      <td>673</td>\n",
              "      <td>2018-02-01</td>\n",
              "      <td>5</td>\n",
              "      <td>0</td>\n",
              "      <td>7.186047</td>\n",
              "      <td>2.719032</td>\n",
              "      <td>5</td>\n",
              "      <td>12</td>\n",
              "    </tr>\n",
              "  </tbody>\n",
              "</table>\n",
              "</div>"
            ],
            "text/plain": [
              "  visit_date                                        URL_visited  ...  min max\n",
              "0 2018-02-01  https://dasreda.ru/learn/courses/yandeksdirekt...  ...    5  12\n",
              "1 2018-02-01  https://dasreda.ru/learn/courses/odnoklassniki...  ...    5  12\n",
              "2 2018-02-01  https://dasreda.ru/learn/courses/yandeksauditorii  ...    5  12\n",
              "3 2018-02-01  https://dasreda.ru/learn/courses/yandeksauditorii  ...    5  12\n",
              "4 2018-02-01  https://dasreda.ru/learn/courses/yandeksauditorii  ...    5  12\n",
              "\n",
              "[5 rows x 10 columns]"
            ]
          },
          "metadata": {
            "tags": []
          },
          "execution_count": 14
        }
      ]
    },
    {
      "cell_type": "code",
      "metadata": {
        "colab": {
          "base_uri": "https://localhost:8080/"
        },
        "id": "G8sjATLOgZLG",
        "outputId": "c9851828-2f9e-4676-899f-a563e5a6f802"
      },
      "source": [
        "events.URL_visited.value_counts().nlargest(10)"
      ],
      "execution_count": 15,
      "outputs": [
        {
          "output_type": "execute_result",
          "data": {
            "text/plain": [
              "https://dasreda.ru/learn                         5327\n",
              "https://dasreda.ru/learn/blog                    2119\n",
              "https://dasreda.ru/learn/videos                  1622\n",
              "https://dasreda.ru/learn/courses                 1326\n",
              "https://dasreda.ru/learn/blog/article/259        1073\n",
              "https://dasreda.ru/learn/do                      1057\n",
              "https://dasreda.ru/learn/courses/biznes-klass     712\n",
              "https://dasreda.ru/learn/blog/article/281         673\n",
              "https://dasreda.ru/learn/blog/article/234         672\n",
              "https://dasreda.ru/learn/blog/article/128         644\n",
              "Name: URL_visited, dtype: int64"
            ]
          },
          "metadata": {
            "tags": []
          },
          "execution_count": 15
        }
      ]
    },
    {
      "cell_type": "code",
      "metadata": {
        "id": "xEk9SzZagu-g"
      },
      "source": [
        ""
      ],
      "execution_count": null,
      "outputs": []
    }
  ]
}