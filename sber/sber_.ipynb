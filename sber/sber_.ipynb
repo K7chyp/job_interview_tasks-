{
  "nbformat": 4,
  "nbformat_minor": 0,
  "metadata": {
    "colab": {
      "name": "Sber_.ipynb",
      "provenance": [],
      "collapsed_sections": []
    },
    "kernelspec": {
      "name": "python3",
      "display_name": "Python 3"
    }
  },
  "cells": [
    {
      "cell_type": "code",
      "metadata": {
        "id": "Q1FlSflhsHlm"
      },
      "source": [
        "import pandas as pd \r\n",
        "import seaborn as sns \r\n",
        "import matplotlib.pyplot as plt "
      ],
      "execution_count": 62,
      "outputs": []
    },
    {
      "cell_type": "code",
      "metadata": {
        "colab": {
          "base_uri": "https://localhost:8080/"
        },
        "id": "HWdZvmEIsSEr",
        "outputId": "90055e90-ca3f-468a-d26e-6a1d4b7e4cca"
      },
      "source": [
        "events = pd.read_csv('/events.csv')"
      ],
      "execution_count": 3,
      "outputs": [
        {
          "output_type": "stream",
          "text": [
            "Drive already mounted at /content/drive; to attempt to forcibly remount, call drive.mount(\"/content/drive\", force_remount=True).\n"
          ],
          "name": "stdout"
        }
      ]
    },
    {
      "cell_type": "code",
      "metadata": {
        "id": "ZERI44rAs6Ex"
      },
      "source": [
        "import sys\r\n",
        "sys.path.append('PATH TO MODULE')"
      ],
      "execution_count": 4,
      "outputs": []
    },
    {
      "cell_type": "code",
      "metadata": {
        "id": "YXFVx25hd8yh"
      },
      "source": [
        "import Preprocessing \r\n",
        "prep = Preprocessing.Prerpocessing(events)\r\n",
        "prep.preproce_it()\r\n",
        "events = prep.events"
      ],
      "execution_count": 5,
      "outputs": []
    },
    {
      "cell_type": "code",
      "metadata": {
        "id": "7G_sEgbMoTE_"
      },
      "source": [
        "import Exploratation\r\n",
        "exp = Exploratation.Exploration(events)"
      ],
      "execution_count": 19,
      "outputs": []
    },
    {
      "cell_type": "code",
      "metadata": {
        "id": "IIhgKP70y1ZW"
      },
      "source": [
        "import Cohort\r\n",
        "cohort = Cohort.Cohort(events)"
      ],
      "execution_count": null,
      "outputs": []
    },
    {
      "cell_type": "code",
      "metadata": {
        "id": "PFutQpsvedcO",
        "colab": {
          "base_uri": "https://localhost:8080/",
          "height": 204
        },
        "outputId": "56aa343b-08e6-4e41-a9b5-4b15c8984723"
      },
      "source": [
        "events.head()"
      ],
      "execution_count": 12,
      "outputs": [
        {
          "output_type": "execute_result",
          "data": {
            "text/html": [
              "<div>\n",
              "<style scoped>\n",
              "    .dataframe tbody tr th:only-of-type {\n",
              "        vertical-align: middle;\n",
              "    }\n",
              "\n",
              "    .dataframe tbody tr th {\n",
              "        vertical-align: top;\n",
              "    }\n",
              "\n",
              "    .dataframe thead th {\n",
              "        text-align: right;\n",
              "    }\n",
              "</style>\n",
              "<table border=\"1\" class=\"dataframe\">\n",
              "  <thead>\n",
              "    <tr style=\"text-align: right;\">\n",
              "      <th></th>\n",
              "      <th>visit_date</th>\n",
              "      <th>URL_visited</th>\n",
              "      <th>user_id</th>\n",
              "      <th>user_reg_date</th>\n",
              "      <th>week_number</th>\n",
              "      <th>registered_after</th>\n",
              "      <th>mean</th>\n",
              "      <th>std</th>\n",
              "      <th>min</th>\n",
              "      <th>max</th>\n",
              "    </tr>\n",
              "  </thead>\n",
              "  <tbody>\n",
              "    <tr>\n",
              "      <th>0</th>\n",
              "      <td>2018-02-01</td>\n",
              "      <td>https://dasreda.ru/learn/courses/yandeksdirekt...</td>\n",
              "      <td>673</td>\n",
              "      <td>2018-02-01</td>\n",
              "      <td>5</td>\n",
              "      <td>0</td>\n",
              "      <td>7.186047</td>\n",
              "      <td>2.719032</td>\n",
              "      <td>5</td>\n",
              "      <td>12</td>\n",
              "    </tr>\n",
              "    <tr>\n",
              "      <th>1</th>\n",
              "      <td>2018-02-01</td>\n",
              "      <td>https://dasreda.ru/learn/courses/odnoklassniki...</td>\n",
              "      <td>673</td>\n",
              "      <td>2018-02-01</td>\n",
              "      <td>5</td>\n",
              "      <td>0</td>\n",
              "      <td>7.186047</td>\n",
              "      <td>2.719032</td>\n",
              "      <td>5</td>\n",
              "      <td>12</td>\n",
              "    </tr>\n",
              "    <tr>\n",
              "      <th>2</th>\n",
              "      <td>2018-02-01</td>\n",
              "      <td>https://dasreda.ru/learn/courses/yandeksauditorii</td>\n",
              "      <td>673</td>\n",
              "      <td>2018-02-01</td>\n",
              "      <td>5</td>\n",
              "      <td>0</td>\n",
              "      <td>7.186047</td>\n",
              "      <td>2.719032</td>\n",
              "      <td>5</td>\n",
              "      <td>12</td>\n",
              "    </tr>\n",
              "    <tr>\n",
              "      <th>3</th>\n",
              "      <td>2018-02-01</td>\n",
              "      <td>https://dasreda.ru/learn/courses/yandeksauditorii</td>\n",
              "      <td>673</td>\n",
              "      <td>2018-02-01</td>\n",
              "      <td>5</td>\n",
              "      <td>0</td>\n",
              "      <td>7.186047</td>\n",
              "      <td>2.719032</td>\n",
              "      <td>5</td>\n",
              "      <td>12</td>\n",
              "    </tr>\n",
              "    <tr>\n",
              "      <th>4</th>\n",
              "      <td>2018-02-01</td>\n",
              "      <td>https://dasreda.ru/learn/courses/yandeksauditorii</td>\n",
              "      <td>673</td>\n",
              "      <td>2018-02-01</td>\n",
              "      <td>5</td>\n",
              "      <td>0</td>\n",
              "      <td>7.186047</td>\n",
              "      <td>2.719032</td>\n",
              "      <td>5</td>\n",
              "      <td>12</td>\n",
              "    </tr>\n",
              "  </tbody>\n",
              "</table>\n",
              "</div>"
            ],
            "text/plain": [
              "  visit_date                                        URL_visited  ...  min max\n",
              "0 2018-02-01  https://dasreda.ru/learn/courses/yandeksdirekt...  ...    5  12\n",
              "1 2018-02-01  https://dasreda.ru/learn/courses/odnoklassniki...  ...    5  12\n",
              "2 2018-02-01  https://dasreda.ru/learn/courses/yandeksauditorii  ...    5  12\n",
              "3 2018-02-01  https://dasreda.ru/learn/courses/yandeksauditorii  ...    5  12\n",
              "4 2018-02-01  https://dasreda.ru/learn/courses/yandeksauditorii  ...    5  12\n",
              "\n",
              "[5 rows x 10 columns]"
            ]
          },
          "metadata": {
            "tags": []
          },
          "execution_count": 12
        }
      ]
    },
    {
      "cell_type": "code",
      "metadata": {
        "colab": {
          "base_uri": "https://localhost:8080/"
        },
        "id": "jUs0nMklQpu1",
        "outputId": "ce080eba-e557-4511-b9b0-18ca8bf67f19"
      },
      "source": [
        "events.shape"
      ],
      "execution_count": 13,
      "outputs": [
        {
          "output_type": "execute_result",
          "data": {
            "text/plain": [
              "(52280, 10)"
            ]
          },
          "metadata": {
            "tags": []
          },
          "execution_count": 13
        }
      ]
    },
    {
      "cell_type": "code",
      "metadata": {
        "colab": {
          "base_uri": "https://localhost:8080/"
        },
        "id": "G8sjATLOgZLG",
        "outputId": "158b7286-dd93-4a44-efc9-24655a3933c4"
      },
      "source": [
        "events.URL_visited.value_counts().nlargest(10)"
      ],
      "execution_count": null,
      "outputs": [
        {
          "output_type": "execute_result",
          "data": {
            "text/plain": [
              "https://dasreda.ru/learn                         5327\n",
              "https://dasreda.ru/learn/blog                    2119\n",
              "https://dasreda.ru/learn/videos                  1622\n",
              "https://dasreda.ru/learn/courses                 1326\n",
              "https://dasreda.ru/learn/blog/article/259        1073\n",
              "https://dasreda.ru/learn/do                      1057\n",
              "https://dasreda.ru/learn/courses/biznes-klass     712\n",
              "https://dasreda.ru/learn/blog/article/281         673\n",
              "https://dasreda.ru/learn/blog/article/234         672\n",
              "https://dasreda.ru/learn/blog/article/128         644\n",
              "Name: URL_visited, dtype: int64"
            ]
          },
          "metadata": {
            "tags": []
          },
          "execution_count": 53
        }
      ]
    },
    {
      "cell_type": "code",
      "metadata": {
        "colab": {
          "base_uri": "https://localhost:8080/",
          "height": 204
        },
        "id": "v75RQOdYRJgF",
        "outputId": "ed1131aa-cccd-495c-8eab-958fa98da18d"
      },
      "source": [
        "events.head()"
      ],
      "execution_count": 17,
      "outputs": [
        {
          "output_type": "execute_result",
          "data": {
            "text/html": [
              "<div>\n",
              "<style scoped>\n",
              "    .dataframe tbody tr th:only-of-type {\n",
              "        vertical-align: middle;\n",
              "    }\n",
              "\n",
              "    .dataframe tbody tr th {\n",
              "        vertical-align: top;\n",
              "    }\n",
              "\n",
              "    .dataframe thead th {\n",
              "        text-align: right;\n",
              "    }\n",
              "</style>\n",
              "<table border=\"1\" class=\"dataframe\">\n",
              "  <thead>\n",
              "    <tr style=\"text-align: right;\">\n",
              "      <th></th>\n",
              "      <th>visit_date</th>\n",
              "      <th>URL_visited</th>\n",
              "      <th>user_id</th>\n",
              "      <th>user_reg_date</th>\n",
              "      <th>week_number</th>\n",
              "      <th>registered_after</th>\n",
              "      <th>mean</th>\n",
              "      <th>std</th>\n",
              "      <th>min</th>\n",
              "      <th>max</th>\n",
              "    </tr>\n",
              "  </thead>\n",
              "  <tbody>\n",
              "    <tr>\n",
              "      <th>0</th>\n",
              "      <td>2018-02-01</td>\n",
              "      <td>https://dasreda.ru/learn/courses/yandeksdirekt...</td>\n",
              "      <td>673</td>\n",
              "      <td>2018-02-01</td>\n",
              "      <td>5</td>\n",
              "      <td>0</td>\n",
              "      <td>7.186047</td>\n",
              "      <td>2.719032</td>\n",
              "      <td>5</td>\n",
              "      <td>12</td>\n",
              "    </tr>\n",
              "    <tr>\n",
              "      <th>1</th>\n",
              "      <td>2018-02-01</td>\n",
              "      <td>https://dasreda.ru/learn/courses/odnoklassniki...</td>\n",
              "      <td>673</td>\n",
              "      <td>2018-02-01</td>\n",
              "      <td>5</td>\n",
              "      <td>0</td>\n",
              "      <td>7.186047</td>\n",
              "      <td>2.719032</td>\n",
              "      <td>5</td>\n",
              "      <td>12</td>\n",
              "    </tr>\n",
              "    <tr>\n",
              "      <th>2</th>\n",
              "      <td>2018-02-01</td>\n",
              "      <td>https://dasreda.ru/learn/courses/yandeksauditorii</td>\n",
              "      <td>673</td>\n",
              "      <td>2018-02-01</td>\n",
              "      <td>5</td>\n",
              "      <td>0</td>\n",
              "      <td>7.186047</td>\n",
              "      <td>2.719032</td>\n",
              "      <td>5</td>\n",
              "      <td>12</td>\n",
              "    </tr>\n",
              "    <tr>\n",
              "      <th>3</th>\n",
              "      <td>2018-02-01</td>\n",
              "      <td>https://dasreda.ru/learn/courses/yandeksauditorii</td>\n",
              "      <td>673</td>\n",
              "      <td>2018-02-01</td>\n",
              "      <td>5</td>\n",
              "      <td>0</td>\n",
              "      <td>7.186047</td>\n",
              "      <td>2.719032</td>\n",
              "      <td>5</td>\n",
              "      <td>12</td>\n",
              "    </tr>\n",
              "    <tr>\n",
              "      <th>4</th>\n",
              "      <td>2018-02-01</td>\n",
              "      <td>https://dasreda.ru/learn/courses/yandeksauditorii</td>\n",
              "      <td>673</td>\n",
              "      <td>2018-02-01</td>\n",
              "      <td>5</td>\n",
              "      <td>0</td>\n",
              "      <td>7.186047</td>\n",
              "      <td>2.719032</td>\n",
              "      <td>5</td>\n",
              "      <td>12</td>\n",
              "    </tr>\n",
              "  </tbody>\n",
              "</table>\n",
              "</div>"
            ],
            "text/plain": [
              "  visit_date                                        URL_visited  ...  min max\n",
              "0 2018-02-01  https://dasreda.ru/learn/courses/yandeksdirekt...  ...    5  12\n",
              "1 2018-02-01  https://dasreda.ru/learn/courses/odnoklassniki...  ...    5  12\n",
              "2 2018-02-01  https://dasreda.ru/learn/courses/yandeksauditorii  ...    5  12\n",
              "3 2018-02-01  https://dasreda.ru/learn/courses/yandeksauditorii  ...    5  12\n",
              "4 2018-02-01  https://dasreda.ru/learn/courses/yandeksauditorii  ...    5  12\n",
              "\n",
              "[5 rows x 10 columns]"
            ]
          },
          "metadata": {
            "tags": []
          },
          "execution_count": 17
        }
      ]
    },
    {
      "cell_type": "code",
      "metadata": {
        "colab": {
          "base_uri": "https://localhost:8080/",
          "height": 295
        },
        "id": "ECrYfJvsi4TE",
        "outputId": "a7b12c17-77dc-4f6e-a8f3-c26988d81051"
      },
      "source": [
        "exp.plot_registered_after()"
      ],
      "execution_count": 20,
      "outputs": [
        {
          "output_type": "display_data",
          "data": {
            "image/png": "[encoded data removed]",
            "text/plain": [
              "<Figure size 432x288 with 1 Axes>"
            ]
          },
          "metadata": {
            "tags": [],
            "needs_background": "light"
          }
        }
      ]
    },
    {
      "cell_type": "code",
      "metadata": {
        "colab": {
          "base_uri": "https://localhost:8080/",
          "height": 295
        },
        "id": "baKeRU32j7T1",
        "outputId": "3f0bf61f-da4e-4613-af4a-89628ee403fd"
      },
      "source": [
        "exp.plot_week_number()"
      ],
      "execution_count": 21,
      "outputs": [
        {
          "output_type": "display_data",
          "data": {
            "image/png": "[encoded data removed]",
            "text/plain": [
              "<Figure size 432x288 with 1 Axes>"
            ]
          },
          "metadata": {
            "tags": [],
            "needs_background": "light"
          }
        }
      ]
    },
    {
      "cell_type": "code",
      "metadata": {
        "colab": {
          "base_uri": "https://localhost:8080/",
          "height": 295
        },
        "id": "rKPVdLPkxmPq",
        "outputId": "f3c07ae5-9f82-42d4-b8ad-74d8f3d1ade2"
      },
      "source": [
        "exp.plot_visits_number()"
      ],
      "execution_count": 61,
      "outputs": [
        {
          "output_type": "display_data",
          "data": {
            "image/png": "[encoded data removed]",
            "text/plain": [
              "<Figure size 432x288 with 1 Axes>"
            ]
          },
          "metadata": {
            "tags": [],
            "needs_background": "light"
          }
        }
      ]
    },
    {
      "cell_type": "code",
      "metadata": {
        "colab": {
          "base_uri": "https://localhost:8080/"
        },
        "id": "OEwBqV47TnVz",
        "outputId": "91f6c686-11cd-4160-e58e-82f1424f8593"
      },
      "source": [
        "exp.get_count_uniq_users(prep.user_to_dict())"
      ],
      "execution_count": 29,
      "outputs": [
        {
          "output_type": "stream",
          "text": [
            "Count of uniq users = 9613\n",
            "it's 18% of dataset\n"
          ],
          "name": "stdout"
        }
      ]
    },
    {
      "cell_type": "code",
      "metadata": {
        "id": "SzC_H3FJUZX3"
      },
      "source": [
        "class Cohort:\r\n",
        "    \"\"\"\r\n",
        "    As it was in task, we should create division on cohort groups\r\n",
        "    \"\"\"\r\n",
        "\r\n",
        "    def __init__(self, events=events):\r\n",
        "        self.events = events.copy()\r\n",
        "        self.events.set_index('user_id', inplace=True)\r\n",
        "\r\n",
        "    def add_cohort_groups(self):\r\n",
        "        \"\"\"\r\n",
        "        add different columns for cohort divison\r\n",
        "        \"\"\"\r\n",
        "        self.events[\"CohortGroup\"] = (\r\n",
        "            self.events.groupby(level=0)[\"visit_date\"].min().dt.isocalendar().week\r\n",
        "        )\r\n",
        "        self.events[\"first_visit_week\"] = (\r\n",
        "            self.events.groupby(level=0)[\"visit_date\"].min().dt.isocalendar().week\r\n",
        "        )\r\n",
        "        self.events[\"last_visit_week\"] = (\r\n",
        "            self.events.groupby(level=0)[\"visit_date\"].max().dt.isocalendar().week\r\n",
        "        )\r\n",
        "        self.events[\"visits_number\"] = self.events.groupby(level=0)[\r\n",
        "            \"visit_date\"\r\n",
        "        ].count()\r\n",
        "    \r\n",
        "    def \r\n",
        "    "
      ],
      "execution_count": 46,
      "outputs": []
    },
    {
      "cell_type": "code",
      "metadata": {
        "colab": {
          "base_uri": "https://localhost:8080/",
          "height": 235
        },
        "id": "yY0Td61JhQGU",
        "outputId": "0faf3501-6543-4b25-b686-1388dfbe2298"
      },
      "source": [
        "cohort.add_cohort_groups()"
      ],
      "execution_count": 47,
      "outputs": [
        {
          "output_type": "execute_result",
          "data": {
            "text/html": [
              "<div>\n",
              "<style scoped>\n",
              "    .dataframe tbody tr th:only-of-type {\n",
              "        vertical-align: middle;\n",
              "    }\n",
              "\n",
              "    .dataframe tbody tr th {\n",
              "        vertical-align: top;\n",
              "    }\n",
              "\n",
              "    .dataframe thead th {\n",
              "        text-align: right;\n",
              "    }\n",
              "</style>\n",
              "<table border=\"1\" class=\"dataframe\">\n",
              "  <thead>\n",
              "    <tr style=\"text-align: right;\">\n",
              "      <th></th>\n",
              "      <th>visit_date</th>\n",
              "      <th>URL_visited</th>\n",
              "      <th>user_reg_date</th>\n",
              "      <th>week_number</th>\n",
              "      <th>registered_after</th>\n",
              "      <th>mean</th>\n",
              "      <th>std</th>\n",
              "      <th>min</th>\n",
              "      <th>max</th>\n",
              "      <th>CohortGroup</th>\n",
              "      <th>first_visit_week</th>\n",
              "      <th>last_visit_week</th>\n",
              "      <th>visits_number</th>\n",
              "    </tr>\n",
              "    <tr>\n",
              "      <th>user_id</th>\n",
              "      <th></th>\n",
              "      <th></th>\n",
              "      <th></th>\n",
              "      <th></th>\n",
              "      <th></th>\n",
              "      <th></th>\n",
              "      <th></th>\n",
              "      <th></th>\n",
              "      <th></th>\n",
              "      <th></th>\n",
              "      <th></th>\n",
              "      <th></th>\n",
              "      <th></th>\n",
              "    </tr>\n",
              "  </thead>\n",
              "  <tbody>\n",
              "    <tr>\n",
              "      <th>673</th>\n",
              "      <td>2018-02-01</td>\n",
              "      <td>https://dasreda.ru/learn/courses/yandeksdirekt...</td>\n",
              "      <td>2018-02-01</td>\n",
              "      <td>5</td>\n",
              "      <td>0</td>\n",
              "      <td>7.186047</td>\n",
              "      <td>2.719032</td>\n",
              "      <td>5</td>\n",
              "      <td>12</td>\n",
              "      <td>5</td>\n",
              "      <td>5</td>\n",
              "      <td>12</td>\n",
              "      <td>43</td>\n",
              "    </tr>\n",
              "    <tr>\n",
              "      <th>673</th>\n",
              "      <td>2018-02-01</td>\n",
              "      <td>https://dasreda.ru/learn/courses/odnoklassniki...</td>\n",
              "      <td>2018-02-01</td>\n",
              "      <td>5</td>\n",
              "      <td>0</td>\n",
              "      <td>7.186047</td>\n",
              "      <td>2.719032</td>\n",
              "      <td>5</td>\n",
              "      <td>12</td>\n",
              "      <td>5</td>\n",
              "      <td>5</td>\n",
              "      <td>12</td>\n",
              "      <td>43</td>\n",
              "    </tr>\n",
              "    <tr>\n",
              "      <th>673</th>\n",
              "      <td>2018-02-01</td>\n",
              "      <td>https://dasreda.ru/learn/courses/yandeksauditorii</td>\n",
              "      <td>2018-02-01</td>\n",
              "      <td>5</td>\n",
              "      <td>0</td>\n",
              "      <td>7.186047</td>\n",
              "      <td>2.719032</td>\n",
              "      <td>5</td>\n",
              "      <td>12</td>\n",
              "      <td>5</td>\n",
              "      <td>5</td>\n",
              "      <td>12</td>\n",
              "      <td>43</td>\n",
              "    </tr>\n",
              "    <tr>\n",
              "      <th>673</th>\n",
              "      <td>2018-02-01</td>\n",
              "      <td>https://dasreda.ru/learn/courses/yandeksauditorii</td>\n",
              "      <td>2018-02-01</td>\n",
              "      <td>5</td>\n",
              "      <td>0</td>\n",
              "      <td>7.186047</td>\n",
              "      <td>2.719032</td>\n",
              "      <td>5</td>\n",
              "      <td>12</td>\n",
              "      <td>5</td>\n",
              "      <td>5</td>\n",
              "      <td>12</td>\n",
              "      <td>43</td>\n",
              "    </tr>\n",
              "    <tr>\n",
              "      <th>673</th>\n",
              "      <td>2018-02-01</td>\n",
              "      <td>https://dasreda.ru/learn/courses/yandeksauditorii</td>\n",
              "      <td>2018-02-01</td>\n",
              "      <td>5</td>\n",
              "      <td>0</td>\n",
              "      <td>7.186047</td>\n",
              "      <td>2.719032</td>\n",
              "      <td>5</td>\n",
              "      <td>12</td>\n",
              "      <td>5</td>\n",
              "      <td>5</td>\n",
              "      <td>12</td>\n",
              "      <td>43</td>\n",
              "    </tr>\n",
              "  </tbody>\n",
              "</table>\n",
              "</div>"
            ],
            "text/plain": [
              "        visit_date  ... visits_number\n",
              "user_id             ...              \n",
              "673     2018-02-01  ...            43\n",
              "673     2018-02-01  ...            43\n",
              "673     2018-02-01  ...            43\n",
              "673     2018-02-01  ...            43\n",
              "673     2018-02-01  ...            43\n",
              "\n",
              "[5 rows x 13 columns]"
            ]
          },
          "metadata": {
            "tags": []
          },
          "execution_count": 47
        }
      ]
    },
    {
      "cell_type": "code",
      "metadata": {
        "id": "a2IxF7AKhZ4k"
      },
      "source": [
        ""
      ],
      "execution_count": null,
      "outputs": []
    }
  ]
}